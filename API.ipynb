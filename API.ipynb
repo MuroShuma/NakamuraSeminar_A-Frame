{
 "cells": [
  {
   "cell_type": "code",
   "execution_count": 1,
   "metadata": {},
   "outputs": [
    {
     "name": "stdout",
     "output_type": "stream",
     "text": [
      "sk-kN3rCh7alUX4wgAQesickzgXH9HTsAsvGIk1IDsiuFT3BlbkFJ6-cQtVjIDFGsJznn2KhUURiII_2UcpCI3RRW9Y44oA\n"
     ]
    }
   ],
   "source": [
    "import openai\n",
    "import os\n",
    "import pandas as pd\n",
    "print(os.getenv('OPENAI_API_KEY'))"
   ]
  },
  {
   "cell_type": "code",
   "execution_count": 2,
   "metadata": {},
   "outputs": [],
   "source": [
    "openai.api_key = os.getenv(\"OPENAI_API_KEY\")"
   ]
  },
  {
   "cell_type": "code",
   "execution_count": 3,
   "metadata": {},
   "outputs": [
    {
     "name": "stdout",
     "output_type": "stream",
     "text": [
      "APIキーが設定されています。\n"
     ]
    }
   ],
   "source": [
    "import os\n",
    "\n",
    "# 環境変数の値を取得\n",
    "api_key = os.getenv(\"OPENAI_API_KEY\")\n",
    "\n",
    "if api_key:\n",
    "    print(\"APIキーが設定されています。\")\n",
    "else:\n",
    "    print(\"APIキーが設定されていません。環境変数を確認してください。\")\n"
   ]
  },
  {
   "cell_type": "code",
   "execution_count": 10,
   "metadata": {},
   "outputs": [
    {
     "name": "stdout",
     "output_type": "stream",
     "text": [
      "私の知識は2023年10月までの情報に基づいていますので、それ以降の最新情報についてはお答えできません。ただし、特定のAPIについての情報やそのバージョンの更新履歴についてお知りになりたい場合、APIの公式ドキュメントやリリースノートを確認することをお勧めします。また、具体的なAPIの名前を教えていただければ、そのAPI\n"
     ]
    }
   ],
   "source": [
    "import openai\n",
    "import os\n",
    "\n",
    "# 環境変数からAPIキーを取得\n",
    "openai.api_key = os.getenv(\"OPENAI_API_KEY\")\n",
    "\n",
    "# ChatGPT APIを利用したチャット\n",
    "response = openai.ChatCompletion.create(\n",
    "    model=\"gpt-4o-mini\",  # 正しいモデル名を指定\n",
    "    messages=[\n",
    "        {\"role\": \"system\", \"content\": \"あなたは親切なアシスタントです。\"},\n",
    "        {\"role\": \"user\", \"content\": \"このAPIは古いのですか？\"}\n",
    "    ],\n",
    "    max_tokens=100,\n",
    "    temperature=0.7\n",
    ")\n",
    "\n",
    "# 応答を表示\n",
    "print(response['choices'][0]['message']['content'])\n"
   ]
  }
 ],
 "metadata": {
  "kernelspec": {
   "display_name": "3.12.6",
   "language": "python",
   "name": "python3"
  },
  "language_info": {
   "codemirror_mode": {
    "name": "ipython",
    "version": 3
   },
   "file_extension": ".py",
   "mimetype": "text/x-python",
   "name": "python",
   "nbconvert_exporter": "python",
   "pygments_lexer": "ipython3",
   "version": "3.12.6"
  }
 },
 "nbformat": 4,
 "nbformat_minor": 2
}
